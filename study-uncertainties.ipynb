{
 "cells": [
  {
   "cell_type": "code",
   "execution_count": 1,
   "id": "fb241539",
   "metadata": {},
   "outputs": [],
   "source": [
    "import pandas as pd\n",
    "import parser\n",
    "from sampler_lib import *"
   ]
  },
  {
   "cell_type": "code",
   "execution_count": 2,
   "id": "8de405e2",
   "metadata": {},
   "outputs": [
    {
     "name": "stdout",
     "output_type": "stream",
     "text": [
      "      ID       Name  Mass (GeV)  Width (GeV)  Degeneracy  Baryon no.  Strangeness no.  Charm no.  Bottom no.  Isospin  Charge  No. of decay channels  Mass Error Pos (GeV)  Mass Error Neg (GeV)  Width Error Pos (GeV)  Width Error Neg (GeV)\n",
      "729 -213  Anti-rho+       0.775      0.14920           3           0                0          0           0      1.0      -1                      1          3.407388e-04          3.407388e-04           8.490676e-04           8.490676e-04\n",
      "730  221        eta       0.547      0.00118           1           0                0          0           0      0.0       0                      3          1.733421e-05          1.733421e-05           4.520066e-08           4.520066e-08\n",
      "731  311         K0       0.498      0.00000           1           0                1          0           0      0.5       0                      1          1.299020e-05          1.299020e-05           0.000000e+00           0.000000e+00\n",
      "732 -311    Anti-K0       0.498      0.00000           1           0               -1          0           0      0.5       0                      1          1.299020e-05          1.299020e-05           0.000000e+00           0.000000e+00\n",
      "733  321         K+       0.494      0.00000           1           0                1          0           0      0.5       1                      1          1.540567e-05          1.540567e-05           8.687028e-20           8.687028e-20\n",
      "734 -321    Anti-K+       0.494      0.00000           1           0               -1          0           0      0.5      -1                      1          1.540567e-05          1.540567e-05           8.687028e-20           8.687028e-20\n",
      "735  211        pi+       0.140      0.00000           1           0                0          0           0      1.0       1                      1          1.820072e-07          1.820072e-07           5.138898e-21           5.138898e-21\n",
      "736 -211   Anti-pi+       0.140      0.00000           1           0                0          0           0      1.0      -1                      1          1.820072e-07          1.820072e-07           5.138898e-21           5.138898e-21\n",
      "737  111        pi0       0.135      0.00000           1           0                0          0           0      1.0       0                      1          4.856793e-07          4.856793e-07           1.246850e-10           1.246850e-10\n",
      "738   22      Gamma       0.000      0.00000           2           0                0          0           0      0.0       0                      1          0.000000e+00          0.000000e+00           0.000000e+00           0.000000e+00\n",
      "\n",
      "\n",
      "      ParentID  No. of daughter particles  BranchingRatio              ProductIDs  BR Error Pos  BR Error Neg\n",
      "3855       221                          3            0.38  [-211, 211, 111, 0, 0]      0.002545      0.002545\n",
      "3856       221                          3            0.07   [-211, 211, 22, 0, 0]      0.000653      0.000653\n",
      "3857       311                          1            1.00       [311, 0, 0, 0, 0]      0.000000      0.000000\n",
      "3858      -311                          1            1.00      [-311, 0, 0, 0, 0]      0.000000      0.000000\n",
      "3859       321                          1            1.00       [321, 0, 0, 0, 0]      0.000000      0.000000\n",
      "3860      -321                          1            1.00      [-321, 0, 0, 0, 0]      0.000000      0.000000\n",
      "3861       211                          1            1.00       [211, 0, 0, 0, 0]      0.000000      0.000000\n",
      "3862      -211                          1            1.00      [-211, 0, 0, 0, 0]      0.000000      0.000000\n",
      "3863       111                          1            1.00       [111, 0, 0, 0, 0]      0.000000      0.000000\n",
      "3864        22                          1            1.00        [22, 0, 0, 0, 0]      0.000000      0.000000\n"
     ]
    }
   ],
   "source": [
    "pd.set_option('display.max_columns', None)  # Show all columns\n",
    "pd.set_option('display.width', 1000)  # Set display width\n",
    "pd.set_option(\"display.max_colwidth\", None)  # Set max column width\n",
    "\n",
    "particle_df = pd.read_pickle('Dataframes/particles_df_errors.pkl')\n",
    "print(particle_df.tail(n=10))\n",
    "print(\"\\n\")\n",
    "\n",
    "decay_df = pd.read_pickle('Dataframes/decays_df_errors.pkl')\n",
    "print(decay_df.tail(n=10))"
   ]
  },
  {
   "cell_type": "code",
   "execution_count": 10,
   "id": "03f80058",
   "metadata": {},
   "outputs": [],
   "source": [
    "mass_p_df = get_edges(particle_df, identifier=\"mass\", edge_id=\"+\")\n",
    "mass_n_df = get_edges(particle_df, identifier=\"mass\", edge_id=\"-\")\n",
    "width_p_df = get_edges(particle_df, identifier=\"width\", edge_id=\"+\")\n",
    "width_n_df = get_edges(particle_df, identifier=\"width\", edge_id=\"-\")\n",
    "\n",
    "# print(mass_p_df.tail(n=10))\n",
    "# print(width_n_df.tail(n=10))\n",
    "\n",
    "# width_n_df.loc[730, \"Width (GeV)\"]"
   ]
  },
  {
   "cell_type": "code",
   "execution_count": null,
   "id": "9c89f9c7",
   "metadata": {},
   "outputs": [
    {
     "name": "stdout",
     "output_type": "stream",
     "text": [
      "Data successfully written to Datafiles_sampled/edge_study/PDG2016Plus_mass_plus.dat\n",
      "Data successfully written to Datafiles_sampled/edge_study/PDG2016Plus_mass_minus.dat\n",
      "Data successfully written to Datafiles_sampled/edge_study/PDG2016Plus_width_plus.dat\n",
      "Data successfully written to Datafiles_sampled/edge_study/PDG2016Plus_width_minus.dat\n"
     ]
    }
   ],
   "source": [
    "\n",
    "output_paths = [\"Datafiles_sampled/edge_study/PDG2016Plus_mass_plus.dat\",\n",
    "                \"Datafiles_sampled/edge_study/PDG2016Plus_mass_minus.dat\",\n",
    "                \"Datafiles_sampled/edge_study/PDG2016Plus_width_plus.dat\",\n",
    "                \"Datafiles_sampled/edge_study/PDG2016Plus_width_minus.dat\"]\n",
    "\n",
    "parser.parse_to_dat(output_paths[0], mass_p_df, decay_df)\n",
    "parser.parse_to_dat(output_paths[1], mass_n_df, decay_df)\n",
    "parser.parse_to_dat(output_paths[2], width_p_df, decay_df)\n",
    "parser.parse_to_dat(output_paths[3], width_n_df, decay_df)"
   ]
  }
 ],
 "metadata": {
  "kernelspec": {
   "display_name": "base",
   "language": "python",
   "name": "python3"
  },
  "language_info": {
   "codemirror_mode": {
    "name": "ipython",
    "version": 3
   },
   "file_extension": ".py",
   "mimetype": "text/x-python",
   "name": "python",
   "nbconvert_exporter": "python",
   "pygments_lexer": "ipython3",
   "version": "3.12.9"
  }
 },
 "nbformat": 4,
 "nbformat_minor": 5
}
