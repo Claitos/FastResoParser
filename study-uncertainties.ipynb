{
 "cells": [
  {
   "cell_type": "code",
   "execution_count": 1,
   "id": "fb241539",
   "metadata": {},
   "outputs": [],
   "source": [
    "import pandas as pd\n",
    "from sampler_lib import *\n",
    "from contextlib import redirect_stdout"
   ]
  },
  {
   "cell_type": "code",
   "execution_count": 2,
   "id": "8de405e2",
   "metadata": {},
   "outputs": [
    {
     "name": "stdout",
     "output_type": "stream",
     "text": [
      "      ID       Name  Mass (GeV)  Width (GeV)  Degeneracy  Baryon no.  Strangeness no.  Charm no.  Bottom no.  Isospin  Charge  No. of decay channels  Mass Error Pos (GeV)  Mass Error Neg (GeV)  Width Error Pos (GeV)  Width Error Neg (GeV)\n",
      "729 -213  Anti-rho+       0.775      0.14920           3           0                0          0           0      1.0      -1                      1          3.407388e-04          3.407388e-04           8.490676e-04           8.490676e-04\n",
      "730  221        eta       0.547      0.00118           1           0                0          0           0      0.0       0                      3          1.733421e-05          1.733421e-05           4.520066e-08           4.520066e-08\n",
      "731  311         K0       0.498      0.00000           1           0                1          0           0      0.5       0                      1          1.299020e-05          1.299020e-05           0.000000e+00           0.000000e+00\n",
      "732 -311    Anti-K0       0.498      0.00000           1           0               -1          0           0      0.5       0                      1          1.299020e-05          1.299020e-05           0.000000e+00           0.000000e+00\n",
      "733  321         K+       0.494      0.00000           1           0                1          0           0      0.5       1                      1          1.540567e-05          1.540567e-05           8.687028e-20           8.687028e-20\n",
      "734 -321    Anti-K+       0.494      0.00000           1           0               -1          0           0      0.5      -1                      1          1.540567e-05          1.540567e-05           8.687028e-20           8.687028e-20\n",
      "735  211        pi+       0.140      0.00000           1           0                0          0           0      1.0       1                      1          1.820072e-07          1.820072e-07           5.138898e-21           5.138898e-21\n",
      "736 -211   Anti-pi+       0.140      0.00000           1           0                0          0           0      1.0      -1                      1          1.820072e-07          1.820072e-07           5.138898e-21           5.138898e-21\n",
      "737  111        pi0       0.135      0.00000           1           0                0          0           0      1.0       0                      1          4.856793e-07          4.856793e-07           1.246850e-10           1.246850e-10\n",
      "738   22      Gamma       0.000      0.00000           2           0                0          0           0      0.0       0                      1          0.000000e+00          0.000000e+00           0.000000e+00           0.000000e+00\n",
      "\n",
      "\n",
      "      ParentID  No. of daughter particles  BranchingRatio              ProductIDs  BR Error Pos  BR Error Neg\n",
      "3855       221                          3            0.38  [-211, 211, 111, 0, 0]      0.002545      0.002545\n",
      "3856       221                          3            0.07   [-211, 211, 22, 0, 0]      0.000653      0.000653\n",
      "3857       311                          1            1.00       [311, 0, 0, 0, 0]      0.000000      0.000000\n",
      "3858      -311                          1            1.00      [-311, 0, 0, 0, 0]      0.000000      0.000000\n",
      "3859       321                          1            1.00       [321, 0, 0, 0, 0]      0.000000      0.000000\n",
      "3860      -321                          1            1.00      [-321, 0, 0, 0, 0]      0.000000      0.000000\n",
      "3861       211                          1            1.00       [211, 0, 0, 0, 0]      0.000000      0.000000\n",
      "3862      -211                          1            1.00      [-211, 0, 0, 0, 0]      0.000000      0.000000\n",
      "3863       111                          1            1.00       [111, 0, 0, 0, 0]      0.000000      0.000000\n",
      "3864        22                          1            1.00        [22, 0, 0, 0, 0]      0.000000      0.000000\n"
     ]
    }
   ],
   "source": [
    "pd.set_option('display.max_columns', None)  # Show all columns\n",
    "pd.set_option('display.width', 1000)  # Set display width\n",
    "pd.set_option(\"display.max_colwidth\", None)  # Set max column width\n",
    "\n",
    "particle_df = pd.read_pickle('Dataframes/particles_df_errors.pkl')\n",
    "print(particle_df.tail(n=10))\n",
    "print(\"\\n\")\n",
    "\n",
    "decay_df = pd.read_pickle('Dataframes/decays_df_errors.pkl')\n",
    "print(decay_df.tail(n=10))"
   ]
  },
  {
   "cell_type": "markdown",
   "id": "5580fd62",
   "metadata": {},
   "source": [
    "## Edge study"
   ]
  },
  {
   "cell_type": "code",
   "execution_count": 3,
   "id": "03f80058",
   "metadata": {},
   "outputs": [],
   "source": [
    "# with open(\"logs/edge.txt\", \"w\") as f:\n",
    "#     with redirect_stdout(f):\n",
    "#         edge_study(particle_df, decay_df, cut=0, verbose=True)\n",
    "#         edge_study(particle_df, decay_df, cut=1e-4)\n",
    "#         edge_study(particle_df, decay_df, cut=1e-5)\n",
    "        "
   ]
  },
  {
   "cell_type": "markdown",
   "id": "d78a3155",
   "metadata": {},
   "source": [
    "## Sampling study"
   ]
  },
  {
   "cell_type": "code",
   "execution_count": 4,
   "id": "1fc9d8bb",
   "metadata": {},
   "outputs": [],
   "source": [
    "with open(\"logs/sampling.txt\", \"w\") as f:\n",
    "    with redirect_stdout(f):\n",
    "        sampling_study(particle_df, decay_df, cut=0, verbose=True)\n",
    "        sampling_study(particle_df, decay_df, cut=1e-4, verbose=True)\n",
    "        #sampling_study(particle_df, decay_df, cut=1e-5, verbose=False)"
   ]
  }
 ],
 "metadata": {
  "kernelspec": {
   "display_name": "base",
   "language": "python",
   "name": "python3"
  },
  "language_info": {
   "codemirror_mode": {
    "name": "ipython",
    "version": 3
   },
   "file_extension": ".py",
   "mimetype": "text/x-python",
   "name": "python",
   "nbconvert_exporter": "python",
   "pygments_lexer": "ipython3",
   "version": "3.12.9"
  }
 },
 "nbformat": 4,
 "nbformat_minor": 5
}
