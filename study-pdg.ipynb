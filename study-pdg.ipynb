{
 "cells": [
  {
   "cell_type": "code",
   "execution_count": 1,
   "id": "249c1a08",
   "metadata": {},
   "outputs": [],
   "source": [
    "import numpy as np\n",
    "import matplotlib.pyplot as plt\n",
    "import pandas as pd\n",
    "import parser \n",
    "import reverser"
   ]
  },
  {
   "cell_type": "code",
   "execution_count": 2,
   "id": "9d435af8",
   "metadata": {},
   "outputs": [],
   "source": [
    "# cuts = [1e-02, 1e-03, 1e-04, 1e-05, 1e-06, 1e-07, 1e-08, 1e-09]\n",
    "# parser.cutting_routine(cuts)\n",
    "# reverser.reverser_routine(cuts)"
   ]
  },
  {
   "cell_type": "code",
   "execution_count": 3,
   "id": "11d9cefe",
   "metadata": {},
   "outputs": [
    {
     "name": "stdout",
     "output_type": "stream",
     "text": [
      "Number of stable particles: 26\n",
      "Stable particles IDs: [3334, -3334, 3312, -3312, 3322, -3322, 3112, -3112, 3212, -3212, 3222, -3222, 3122, -3122, 2112, -2112, 2212, -2212, 311, -311, 321, -321, 211, -211, 111, 22]\n"
     ]
    }
   ],
   "source": [
    "# Path to your file\n",
    "file_path = \"decays_PDG2016Plus_massorder_original.dat\"\n",
    "# file_path = \"decays_QM2016Plus_massorder.dat\"\n",
    "\n",
    "# Parse the file\n",
    "particles_df, decays_df = parser.parse_to_df(file_path)\n",
    "\n",
    "stable_particles_test = particles_df[particles_df[\"Width (GeV)\"] == 0.0]\n",
    "stable_particles = stable_particles_test[stable_particles_test[\"No. of decay channels\"] == 1][\"ID\"].tolist()\n",
    "print(f\"Number of stable particles: {len(stable_particles)}\")\n",
    "print(f\"Stable particles IDs: {stable_particles}\")"
   ]
  },
  {
   "cell_type": "code",
   "execution_count": 4,
   "id": "c3f728c8",
   "metadata": {},
   "outputs": [
    {
     "name": "stdout",
     "output_type": "stream",
     "text": [
      "Particles DataFrame:\n",
      "        ID          Name  Mass (GeV)  Width (GeV)  Degeneracy  Baryon no.  Strangeness no.  Charm no.  Bottom no.  Isospin  Charge  No. of decay channels\n",
      "0  2001034  Delta(2950)-        2.95          0.5          16           1                0          0           0      1.5      -1                      2\n",
      "1  2001033  Delta(2950)0        2.95          0.5          16           1                0          0           0      1.5       0                      3\n",
      "2  2001032  Delta(2950)+        2.95          0.5          16           1                0          0           0      1.5       1                      3\n",
      "\n",
      "total number of particles : 739\n",
      "\n",
      "Decays DataFrame:\n",
      "   ParentID  No. of daughter particles  BranchingRatio              ProductIDs\n",
      "0   2001034                          2            0.96  [2001030, 22, 0, 0, 0]\n",
      "1   2001034                          2            0.04   [2112, -211, 0, 0, 0]\n",
      "2   2001033                          2            0.96  [2001029, 22, 0, 0, 0]\n",
      "\n",
      "total number of decays : 3865\n"
     ]
    }
   ],
   "source": [
    "# View the data\n",
    "pd.set_option('display.max_columns', None)  # Show all columns\n",
    "pd.set_option('display.width', 1000)  # Set display width\n",
    "pd.set_option(\"display.max_colwidth\", None)  # Set max column width\n",
    "\n",
    "print(\"Particles DataFrame:\")\n",
    "print(particles_df.head(n=3))\n",
    "print()\n",
    "print(f\"total number of particles : {len(particles_df)}\")\n",
    "\n",
    "print(\"\\nDecays DataFrame:\")\n",
    "print(decays_df.head(n=3))\n",
    "print()\n",
    "print(f\"total number of decays : {len(decays_df)}\")\n"
   ]
  },
  {
   "cell_type": "markdown",
   "id": "98e813ec",
   "metadata": {},
   "source": [
    "## TEST of dpg API"
   ]
  },
  {
   "cell_type": "code",
   "execution_count": 5,
   "id": "1b854e05",
   "metadata": {},
   "outputs": [
    {
     "name": "stdout",
     "output_type": "stream",
     "text": [
      "2025 Review of Particle Physics, data release 2025-05-30 13:30:23 PDT, API version 0.2.0\n",
      "S. Navas et al. (Particle Data Group), Phys. Rev. D 110, 030001 (2024) and 2025 update\n",
      "(C) Particle Data Group (PDG), data released under CC BY 4.0\n",
      "For further information see https://pdg.lbl.gov/api\n",
      "<class 'pdg.api.PdgApi'>\n"
     ]
    }
   ],
   "source": [
    "import pdg\n",
    "from pdg_lib import *\n",
    "#api = pdg.connect('sqlite:///Database/pdg-2025-v0.2.1.sqlite')\n",
    "api = pdg.connect()\n",
    "print(api)\n",
    "print(type(api))"
   ]
  },
  {
   "cell_type": "code",
   "execution_count": 6,
   "id": "6b9b234b",
   "metadata": {},
   "outputs": [
    {
     "name": "stdout",
     "output_type": "stream",
     "text": [
      "[{'id': 315210, 'pdgid_id': 2424, 'pdgid': 'S008M', 'edition': '2025', 'value_type': 'FC', 'in_summary_table': True, 'confidence_level': None, 'limit_type': None, 'comment': None, 'value': 139.570390983681, 'value_text': '139.57039+-0.00018', 'error_positive': 0.00018200716040826, 'error_negative': 0.00018200716040826, 'scale_factor': 1.76094, 'unit_text': 'MeV', 'display_value_text': '139.57039+-0.00018', 'display_power_of_ten': 0, 'display_in_percent': False, 'sort': 1, 'description': 'pi+- MASS'}, {'id': 315211, 'pdgid_id': 2424, 'pdgid': 'S008M', 'edition': '2025', 'value_type': 'AC', 'in_summary_table': False, 'confidence_level': None, 'limit_type': None, 'comment': None, 'value': 139.570390983681, 'value_text': '139.57039+-0.00017', 'error_positive': 0.000169358969894129, 'error_negative': 0.000169358969894129, 'scale_factor': 1.638568, 'unit_text': 'MeV', 'display_value_text': '139.57039+-0.00017', 'display_power_of_ten': 0, 'display_in_percent': False, 'sort': 2, 'description': 'pi+- MASS'}]\n",
      "1.8200716040826e-07\n",
      "lifetime:  2.60331319994913e-08\n",
      "lifetime error:  5.29123572070991e-12\n",
      "width:  2.496818285301597e-17\n",
      "width error:  5.074784739526398e-21\n",
      "particle width:  2.5283166082854017e-17\n",
      "particle width error:  5.138805100855808e-21\n"
     ]
    }
   ],
   "source": [
    "particle = api.get_particle_by_mcid(211)  # Example: get the particle with ID 211 (pi+)\n",
    "mass = list(particle.masses())[0]\n",
    "#width = list(particle.widths())[0]\n",
    "lifetime = list(particle.lifetimes())[0]\n",
    "\n",
    "svm = mass.summary_values()\n",
    "print(svm)\n",
    "print(svm[0].get_error_positive(units=\"GeV\"))\n",
    "\n",
    "svl = lifetime.summary_values()\n",
    "print(\"lifetime: \",svl[0].get_value(units=\"s\"))\n",
    "print(\"lifetime error: \",svl[0].get_error_positive(units=\"s\"))\n",
    "\n",
    "print(\"width: \",(6.5*10**-25) / svl[0].get_value(units=\"s\"))\n",
    "print(\"width error: \",((6.5*10**-25) / (svl[0].get_value(units=\"s\")**2)) * svl[0].get_error_positive(units=\"s\"))\n",
    "#print((6.5*10**-25) / svl[0].get_error_positive(units=\"s\"))\n",
    "\n",
    "print(\"particle width: \", particle.width)\n",
    "print(\"particle width error: \", particle.width_error)\n"
   ]
  },
  {
   "cell_type": "code",
   "execution_count": 7,
   "id": "d32f56c2",
   "metadata": {},
   "outputs": [
    {
     "name": "stdout",
     "output_type": "stream",
     "text": [
      "mass error:  0.002\n",
      "[{'id': 329828, 'pdgid_id': 8682, 'pdgid': 'B033W', 'edition': '2025', 'value_type': 'E', 'in_summary_table': True, 'confidence_level': None, 'limit_type': 'R', 'comment': None, 'value': None, 'value_text': '114 TO 117 TO 120', 'error_positive': None, 'error_negative': None, 'scale_factor': None, 'unit_text': 'MeV', 'display_value_text': '114 to 120 (~117)', 'display_power_of_ten': 0, 'display_in_percent': False, 'sort': 1, 'description': 'MIXED CHARGES'}]\n",
      "width:  114 TO 117 TO 120\n",
      "display width:  114 to 120 (~117)\n",
      "unit:  MeV\n",
      "extracted numbers:  ['114', '117', '120']\n",
      "[0.114, 0.117, 0.12]\n",
      "text_error positive: 0.003, text_error negative: 0.003\n"
     ]
    }
   ],
   "source": [
    "particle = api.get_particle_by_mcid(1114)  # Example: get the particle with ID 211 (pi+)\n",
    "mass = list(particle.masses())[0]\n",
    "width = list(particle.widths())[0]\n",
    "#lifetime = list(particle.lifetimes())[0]\n",
    "\n",
    "svm = mass.summary_values()\n",
    "#print(svm)\n",
    "print(\"mass error: \",svm[0].get_error_positive(units=\"GeV\"))\n",
    "\n",
    "svw = width.summary_values()\n",
    "print(svw)\n",
    "text = svw[0].value_text\n",
    "print(\"width: \",text)\n",
    "d_text = svw[0].display_value_text\n",
    "print(\"display width: \",d_text)\n",
    "unit = svw[0].units\n",
    "print(\"unit: \",unit)\n",
    "\n",
    "import re\n",
    "\n",
    "test_numbers = re.findall(r\"\\d+\", text)\n",
    "print(\"extracted numbers: \", test_numbers)\n",
    "unit_dict = {\"MeV\": 1e-3}\n",
    "print([float(num) * unit_dict[\"MeV\"] for num in test_numbers])\n",
    "    \n",
    "\n",
    "_,_ = get_values_text(svw[0], verbose=True)"
   ]
  },
  {
   "cell_type": "markdown",
   "id": "81db51c7",
   "metadata": {},
   "source": [
    "### Particle Dataframe"
   ]
  },
  {
   "cell_type": "code",
   "execution_count": 8,
   "id": "56000716",
   "metadata": {},
   "outputs": [],
   "source": [
    "from contextlib import redirect_stdout\n",
    "\n",
    "with open(\"logs/output.txt\", \"w\") as f:\n",
    "    with redirect_stdout(f):\n",
    "        particles_df_errors = get_particle_errors(particles_df, api, apply_corrections=False)"
   ]
  },
  {
   "cell_type": "code",
   "execution_count": 9,
   "id": "5be3f04e",
   "metadata": {},
   "outputs": [
    {
     "name": "stdout",
     "output_type": "stream",
     "text": [
      "      ID      Name  Mass (GeV)  Width (GeV)  Degeneracy  Baryon no.  Strangeness no.  Charm no.  Bottom no.  Isospin  Charge  No. of decay channels  Mass Error Pos (GeV)  Mass Error Neg (GeV)  Width Error Pos (GeV)  Width Error Neg (GeV)\n",
      "734 -321   Anti-K+       0.494          0.0           1           0               -1          0           0      0.5      -1                      1          1.540567e-05          1.540567e-05           8.687028e-20           8.687028e-20\n",
      "735  211       pi+       0.140          0.0           1           0                0          0           0      1.0       1                      1          1.820072e-07          1.820072e-07           5.138898e-21           5.138898e-21\n",
      "736 -211  Anti-pi+       0.140          0.0           1           0                0          0           0      1.0      -1                      1          1.820072e-07          1.820072e-07           5.138898e-21           5.138898e-21\n",
      "737  111       pi0       0.135          0.0           1           0                0          0           0      1.0       0                      1          4.856793e-07          4.856793e-07           1.246850e-10           1.246850e-10\n",
      "738   22     Gamma       0.000          0.0           2           0                0          0           0      0.0       0                      1          0.000000e+00          0.000000e+00           0.000000e+00           0.000000e+00\n"
     ]
    }
   ],
   "source": [
    "print(particles_df_errors.tail(n=5))\n",
    "\n",
    "with open('Dataframes/Dataframe_particle_errors.txt', 'w') as f:\n",
    "    f.write(particles_df_errors.to_string(index=False))"
   ]
  },
  {
   "cell_type": "code",
   "execution_count": 10,
   "id": "641adeca",
   "metadata": {},
   "outputs": [
    {
     "name": "stdout",
     "output_type": "stream",
     "text": [
      "Number of particles with positive mass error: 520\n",
      "Number of particles with positive width error: 516\n"
     ]
    },
    {
     "data": {
      "text/plain": [
       "<matplotlib.legend.Legend at 0x71f699aa3350>"
      ]
     },
     "execution_count": 10,
     "metadata": {},
     "output_type": "execute_result"
    },
    {
     "data": {
      "image/png": "[encoded data removed]",
      "text/plain": [
       "<Figure size 640x480 with 1 Axes>"
      ]
     },
     "metadata": {},
     "output_type": "display_data"
    }
   ],
   "source": [
    "counter_mass = 0\n",
    "for m_err in particles_df_errors[\"Mass Error Neg (GeV)\"]:\n",
    "    if m_err > 0:\n",
    "        counter_mass += 1\n",
    "\n",
    "counter_width = 0\n",
    "for w_err in particles_df_errors[\"Width Error Neg (GeV)\"]:\n",
    "    if w_err > 0:\n",
    "        counter_width += 1\n",
    "\n",
    "print(f\"Number of particles with positive mass error: {counter_mass}\")\n",
    "print(f\"Number of particles with positive width error: {counter_width}\")\n",
    "\n",
    "plt.plot(particles_df_errors[\"Mass Error Pos (GeV)\"], marker='o', linestyle='None', color=\"blue\", label=\"Mass Error Pos\")\n",
    "plt.plot(particles_df_errors[\"Mass Error Neg (GeV)\"], marker='o', linestyle='None', color=\"lightblue\", label=\"Mass Error Neg\")\n",
    "plt.plot(particles_df_errors[\"Width Error Pos (GeV)\"], marker='s', linestyle='None', color=\"green\", label=\"Width Error Pos\")\n",
    "plt.plot(particles_df_errors[\"Width Error Neg (GeV)\"], marker='s', linestyle='None', color=\"lightgreen\", label=\"Width Error Neg\")\n",
    "plt.yscale(\"symlog\", linthresh=1e-22)\n",
    "plt.xlabel(\"Particle ID\")\n",
    "plt.ylabel(\"Mass/Width (GeV)\")\n",
    "plt.legend()\n",
    "#plt.show()\n",
    "#plt.savefig(\"Plots/PDG-API/errors_plot_all.png\", dpi=300, bbox_inches='tight')"
   ]
  },
  {
   "cell_type": "markdown",
   "id": "9889e423",
   "metadata": {},
   "source": [
    "List of particles that are in the Pdg but nothing is found :\n",
    "\n",
    "pi_2(1880), K_0^*(1950), K_2^*(1980), phi(2170), Omega(2250), Lambda(2350)\n",
    "\n",
    "i have fixed this with formatted names"
   ]
  },
  {
   "cell_type": "code",
   "execution_count": 11,
   "id": "a7f5e456",
   "metadata": {},
   "outputs": [],
   "source": [
    "# Save the DataFrame with errors to a pickle file\n",
    "# particles_df_errors.to_pickle(\"Dataframes/particles_df_errors.pkl\")\n",
    "\n",
    "#df = pd.read_pickle('Dataframes/particles_df_errors.pkl')\n",
    "#print(df.to_string())\n"
   ]
  },
  {
   "cell_type": "markdown",
   "id": "87360787",
   "metadata": {},
   "source": [
    "### Decay Dataframe"
   ]
  },
  {
   "cell_type": "code",
   "execution_count": 12,
   "id": "203a8370",
   "metadata": {},
   "outputs": [
    {
     "name": "stdout",
     "output_type": "stream",
     "text": [
      "<class 'pandas.core.series.Series'>\n",
      "ParentID                                       221\n",
      "No. of daughter particles                        3\n",
      "BranchingRatio                                0.55\n",
      "ProductIDs                   [111, 111, 111, 0, 0]\n",
      "Name: 3854, dtype: object\n",
      "Analyzing decays for particle ID: 221 with products [111, 111, 111]\n",
      "\n",
      "eta --> neutral modes                                           (71.95+-0.29)E-2\n",
      "<class 'pdg.decay.PdgBranchingFraction'>\n",
      "retrieved product_list: []\n",
      "length of summary values: 1\n",
      "Retrieved error values: nan nan\n",
      "\n",
      "eta --> 2gamma                                                  (39.36+-0.18)E-2\n",
      "<class 'pdg.decay.PdgBranchingFraction'>\n",
      "retrieved product_list: [22, 22]\n",
      "length of summary values: 2\n",
      "Retrieved error values: nan nan\n",
      "\n",
      "eta --> 3pi0                                                    (32.56+-0.21)E-2\n",
      "<class 'pdg.decay.PdgBranchingFraction'>\n",
      "retrieved product_list: [111, 111, 111]\n",
      "length of summary values: 2\n",
      "Match found for 221 decay: [111, 111, 111]\n",
      "Match found for 221 decay: [111, 111, 111]\n",
      "Retrieved error values: 0.0149553838790261 0.0149553838790261\n",
      "\n",
      "eta --> pi0 2gamma                                              (2.55+-0.22)E-4\n",
      "<class 'pdg.decay.PdgBranchingFraction'>\n",
      "retrieved product_list: [111, 22, 22]\n",
      "length of summary values: 2\n",
      "Retrieved error values: nan nan\n",
      "\n",
      "eta --> 2pi0 2gamma                                             <1.2 E-3\n",
      "<class 'pdg.decay.PdgBranchingFraction'>\n",
      "retrieved product_list: [111, 111, 22, 22]\n",
      "length of summary values: 1\n",
      "Retrieved error values: nan nan\n",
      "\n",
      "eta --> 4 gamma                                                 <2.8 E-4\n",
      "<class 'pdg.decay.PdgBranchingFraction'>\n",
      "retrieved product_list: [22]\n",
      "length of summary values: 1\n",
      "Retrieved error values: nan nan\n",
      "\n",
      "eta --> invisible                                               <1.0 E-4\n",
      "<class 'pdg.decay.PdgBranchingFraction'>\n",
      "retrieved product_list: []\n",
      "length of summary values: 1\n",
      "Retrieved error values: nan nan\n",
      "\n",
      "eta --> charged modes                                           (28.05+-0.29)E-2\n",
      "<class 'pdg.decay.PdgBranchingFraction'>\n",
      "retrieved product_list: []\n",
      "length of summary values: 1\n",
      "Retrieved error values: nan nan\n",
      "\n",
      "eta --> pi+ pi- pi0                                             (23.02+-0.25)E-2\n",
      "<class 'pdg.decay.PdgBranchingFraction'>\n",
      "retrieved product_list: [211, -211, 111]\n",
      "length of summary values: 2\n",
      "Retrieved error values: nan nan\n",
      "\n",
      "eta --> pi+ pi- gamma                                           (4.28+-0.07)E-2\n",
      "<class 'pdg.decay.PdgBranchingFraction'>\n",
      "retrieved product_list: [211, -211, 22]\n",
      "length of summary values: 2\n",
      "Retrieved error values: nan nan\n",
      "\n",
      "eta --> e+ e- gamma                                             (7.00+-0.22)E-3\n",
      "<class 'pdg.decay.PdgBranchingFraction'>\n",
      "retrieved product_list: [-11, 11, 22]\n",
      "length of summary values: 2\n",
      "Retrieved error values: nan nan\n",
      "\n",
      "eta --> mu+ mu- gamma                                           (3.1+-0.4)E-4\n",
      "<class 'pdg.decay.PdgBranchingFraction'>\n",
      "retrieved product_list: [-13, 13, 22]\n",
      "length of summary values: 2\n",
      "Retrieved error values: nan nan\n",
      "\n",
      "eta --> e+ e-                                                   <7 E-7\n",
      "<class 'pdg.decay.PdgBranchingFraction'>\n",
      "retrieved product_list: [-11, 11]\n",
      "length of summary values: 1\n",
      "Retrieved error values: nan nan\n",
      "\n",
      "eta --> mu+ mu-                                                 (5.8+-0.8)E-6\n",
      "<class 'pdg.decay.PdgBranchingFraction'>\n",
      "retrieved product_list: [-13, 13]\n",
      "length of summary values: 1\n",
      "Retrieved error values: nan nan\n",
      "\n",
      "eta --> 2e+ 2e-                                                 (2.40+-0.22)E-5\n",
      "<class 'pdg.decay.PdgBranchingFraction'>\n",
      "retrieved product_list: [-11, -11, 11, 11]\n",
      "length of summary values: 1\n",
      "Retrieved error values: nan nan\n",
      "\n",
      "eta --> pi+ pi- e+ e-  (gamma)                                  (2.68+-0.11)E-4\n",
      "<class 'pdg.decay.PdgBranchingFraction'>\n",
      "retrieved product_list: []\n",
      "length of summary values: 2\n",
      "Retrieved error values: nan nan\n",
      "\n",
      "eta --> e+ e- mu+ mu-                                           <1.6 E-4\n",
      "<class 'pdg.decay.PdgBranchingFraction'>\n",
      "retrieved product_list: [-11, 11, -13, 13]\n",
      "length of summary values: 1\n",
      "Retrieved error values: nan nan\n",
      "\n",
      "eta --> 2mu+ 2mu-                                               (5.0+-1.3)E-9\n",
      "<class 'pdg.decay.PdgBranchingFraction'>\n",
      "retrieved product_list: [-13, -13, 13, 13]\n",
      "length of summary values: 1\n",
      "Retrieved error values: nan nan\n",
      "\n",
      "eta --> mu+ mu- pi+ pi-                                         <3.6 E-4\n",
      "<class 'pdg.decay.PdgBranchingFraction'>\n",
      "retrieved product_list: [-13, 13, 211, -211]\n",
      "length of summary values: 1\n",
      "Retrieved error values: nan nan\n",
      "\n",
      "eta --> pi+ e- nubar_e + c.c.                                   <1.7 E-4\n",
      "<class 'pdg.decay.PdgBranchingFraction'>\n",
      "retrieved product_list: []\n",
      "length of summary values: 1\n",
      "Retrieved error values: nan nan\n",
      "\n",
      "eta --> pi+ pi- 2gamma                                          <2.1 E-3\n",
      "<class 'pdg.decay.PdgBranchingFraction'>\n",
      "retrieved product_list: [211, -211, 22, 22]\n",
      "length of summary values: 1\n",
      "Retrieved error values: nan nan\n",
      "\n",
      "eta --> pi+ pi- pi0 gamma                                       <6 E-4\n",
      "<class 'pdg.decay.PdgBranchingFraction'>\n",
      "retrieved product_list: [211, -211, 111, 22]\n",
      "length of summary values: 1\n",
      "Retrieved error values: nan nan\n",
      "\n",
      "eta --> pi0 mu+ mu- gamma                                       <3 E-6\n",
      "<class 'pdg.decay.PdgBranchingFraction'>\n",
      "retrieved product_list: [111, -13, 13, 22]\n",
      "length of summary values: 1\n",
      "Retrieved error values: nan nan\n",
      "\n",
      "eta --> pi0 gamma                                               <9 E-5\n",
      "<class 'pdg.decay.PdgBranchingFraction'>\n",
      "retrieved product_list: [111, 22]\n",
      "length of summary values: 1\n",
      "Retrieved error values: nan nan\n",
      "\n",
      "eta --> pi+ pi-                                                 <4.4 E-6\n",
      "<class 'pdg.decay.PdgBranchingFraction'>\n",
      "retrieved product_list: [211, -211]\n",
      "length of summary values: 1\n",
      "Retrieved error values: nan nan\n",
      "\n",
      "eta --> 2pi0                                                    <3.5 E-4\n",
      "<class 'pdg.decay.PdgBranchingFraction'>\n",
      "retrieved product_list: [111, 111]\n",
      "length of summary values: 1\n",
      "Retrieved error values: nan nan\n",
      "\n",
      "eta --> 2pi0 gamma                                              <5 E-4\n",
      "<class 'pdg.decay.PdgBranchingFraction'>\n",
      "retrieved product_list: [111, 111, 22]\n",
      "length of summary values: 1\n",
      "Retrieved error values: nan nan\n",
      "\n",
      "eta --> 3pi0 gamma                                              <6 E-5\n",
      "<class 'pdg.decay.PdgBranchingFraction'>\n",
      "retrieved product_list: [111, 111, 111, 22]\n",
      "length of summary values: 1\n",
      "Retrieved error values: nan nan\n",
      "\n",
      "eta --> 3gamma                                                  <1.6 E-5\n",
      "<class 'pdg.decay.PdgBranchingFraction'>\n",
      "retrieved product_list: [22, 22, 22]\n",
      "length of summary values: 1\n",
      "Retrieved error values: nan nan\n",
      "\n",
      "eta --> 4pi0                                                    <6.9 E-7\n",
      "<class 'pdg.decay.PdgBranchingFraction'>\n",
      "retrieved product_list: [111, 111, 111, 111]\n",
      "length of summary values: 1\n",
      "Retrieved error values: nan nan\n",
      "\n",
      "eta --> pi0 e+ e-                                               <8 E-6\n",
      "<class 'pdg.decay.PdgBranchingFraction'>\n",
      "retrieved product_list: [111, -11, 11]\n",
      "length of summary values: 1\n",
      "Retrieved error values: nan nan\n",
      "\n",
      "eta --> pi0 mu+ mu-                                             <5 E-6\n",
      "<class 'pdg.decay.PdgBranchingFraction'>\n",
      "retrieved product_list: [111, -13, 13]\n",
      "length of summary values: 1\n",
      "Retrieved error values: nan nan\n",
      "\n",
      "eta --> mu+ e- + mu- e+                                         <6 E-6\n",
      "<class 'pdg.decay.PdgBranchingFraction'>\n",
      "retrieved product_list: [-13, 11, 13, -11]\n",
      "length of summary values: 1\n",
      "Retrieved error values: nan nan\n"
     ]
    }
   ],
   "source": [
    "from collections import Counter\n",
    "\n",
    "particle_decay = decays_df.loc[3854]\n",
    "print(type(particle_decay))\n",
    "print(particle_decay)\n",
    "products = particle_decay[\"ProductIDs\"]\n",
    "products = [x for x in products if x != 0]\n",
    "\n",
    "mcid = int(particle_decay[\"ParentID\"])\n",
    "print(f\"Analyzing decays for particle ID: {mcid} with products {products}\")\n",
    "particle = api.get_particle_by_mcid(mcid)  # Example: get the particle with ID 221 (eta)\n",
    "#print(type(particle))\n",
    "\n",
    "\n",
    "for bf in particle.branching_fractions():\n",
    "    print('\\n%-60s    %s' % (bf.description, bf.value_text))\n",
    "    print(type(bf))\n",
    "    \n",
    "    product_list = []\n",
    "    for product in bf.decay_products:\n",
    "        #print(product)\n",
    "        item = product.item\n",
    "        multi = product.multiplier\n",
    "        if product.subdecay is None and item.has_particle:\n",
    "            mcid_prod = item.particle.mcid\n",
    "            for _ in range(multi):\n",
    "                product_list.append(mcid_prod)\n",
    "\n",
    "    print(f\"retrieved product_list: {product_list}\")\n",
    "    summary_values = bf.summary_values()\n",
    "    print(f\"length of summary values: {len(summary_values)}\")\n",
    "\n",
    "    err_pos, err_neg = np.nan, np.nan\n",
    "\n",
    "    for sv in summary_values[::1]:\n",
    "        if Counter(products) == Counter(product_list):\n",
    "            print(f\"Match found for {mcid} decay: {products}\")\n",
    "            err_pos = sv.error_positive\n",
    "            err_neg = sv.error_negative\n",
    "        else:\n",
    "            continue\n",
    "\n",
    "    print(f\"Retrieved error values: {err_pos} {err_neg}\")"
   ]
  },
  {
   "cell_type": "code",
   "execution_count": 13,
   "id": "66d7fab0",
   "metadata": {},
   "outputs": [],
   "source": [
    "with open(\"logs/output_decay.txt\", \"w\") as f:\n",
    "    with redirect_stdout(f):\n",
    "        decays_df_errors = get_decay_errors(particles_df, decays_df, api, apply_corrections=True)"
   ]
  },
  {
   "cell_type": "code",
   "execution_count": 14,
   "id": "f9ef667f",
   "metadata": {},
   "outputs": [
    {
     "name": "stdout",
     "output_type": "stream",
     "text": [
      "      ParentID  No. of daughter particles  BranchingRatio              ProductIDs  BR Error Pos  BR Error Neg\n",
      "3855       221                          3            0.38  [-211, 211, 111, 0, 0]      0.002545      0.002545\n",
      "3856       221                          3            0.07   [-211, 211, 22, 0, 0]      0.000653      0.000653\n",
      "3857       311                          1            1.00       [311, 0, 0, 0, 0]      0.000000      0.000000\n",
      "3858      -311                          1            1.00      [-311, 0, 0, 0, 0]      0.000000      0.000000\n",
      "3859       321                          1            1.00       [321, 0, 0, 0, 0]      0.000000      0.000000\n",
      "3860      -321                          1            1.00      [-321, 0, 0, 0, 0]      0.000000      0.000000\n",
      "3861       211                          1            1.00       [211, 0, 0, 0, 0]      0.000000      0.000000\n",
      "3862      -211                          1            1.00      [-211, 0, 0, 0, 0]      0.000000      0.000000\n",
      "3863       111                          1            1.00       [111, 0, 0, 0, 0]      0.000000      0.000000\n",
      "3864        22                          1            1.00        [22, 0, 0, 0, 0]      0.000000      0.000000\n"
     ]
    }
   ],
   "source": [
    "print(decays_df_errors.tail(n=10))\n",
    "\n",
    "with open('Dataframes/Dataframe_decay_errors.txt', 'w') as f:\n",
    "    f.write(decays_df_errors.to_string(index=False))"
   ]
  },
  {
   "cell_type": "code",
   "execution_count": 15,
   "id": "b65cc2bc",
   "metadata": {},
   "outputs": [
    {
     "name": "stdout",
     "output_type": "stream",
     "text": [
      "Number of particles with positive BR error: 3179\n",
      "Number of particles with negative BR error: 3179\n"
     ]
    },
    {
     "data": {
      "text/plain": [
       "<matplotlib.legend.Legend at 0x71f699885370>"
      ]
     },
     "execution_count": 15,
     "metadata": {},
     "output_type": "execute_result"
    },
    {
     "data": {
      "image/png": "[encoded data removed]",
      "text/plain": [
       "<Figure size 640x480 with 1 Axes>"
      ]
     },
     "metadata": {},
     "output_type": "display_data"
    }
   ],
   "source": [
    "counter_br_pos = 0\n",
    "for br_err in decays_df_errors[\"BR Error Pos\"]:\n",
    "    if br_err > 0:\n",
    "        counter_br_pos += 1\n",
    "\n",
    "counter_br_neg = 0\n",
    "for br_err in decays_df_errors[\"BR Error Neg\"]:\n",
    "    if br_err > 0:\n",
    "        counter_br_neg += 1\n",
    "\n",
    "\n",
    "print(f\"Number of particles with positive BR error: {counter_br_pos}\")\n",
    "print(f\"Number of particles with negative BR error: {counter_br_neg}\")\n",
    "\n",
    "plt.plot(decays_df_errors[\"BR Error Pos\"], marker='o', linestyle='None', color=\"blue\", label=\"BR Error Pos\")\n",
    "plt.plot(decays_df_errors[\"BR Error Neg\"], marker='o', linestyle='None', color=\"lightblue\", label=\"BR Error Neg\")\n",
    "plt.yscale(\"symlog\", linthresh=1e-4)\n",
    "plt.xlabel(\"Decay mode\")\n",
    "plt.ylabel(\"BR Error\")\n",
    "plt.legend()\n",
    "#plt.show()\n",
    "#plt.savefig(\"Plots/PDG-API/errors_plot_all.png\", dpi=300, bbox_inches='tight')"
   ]
  },
  {
   "cell_type": "code",
   "execution_count": 16,
   "id": "db5b603d",
   "metadata": {},
   "outputs": [],
   "source": [
    "# Output path\n",
    "# output_path = f\"decays_PDG2016Plus_massorder_err.dat\"\n",
    "\n",
    "# parser.parse_to_dat(output_path, particles_df_errors, decays_df)"
   ]
  }
 ],
 "metadata": {
  "kernelspec": {
   "display_name": "base",
   "language": "python",
   "name": "python3"
  },
  "language_info": {
   "codemirror_mode": {
    "name": "ipython",
    "version": 3
   },
   "file_extension": ".py",
   "mimetype": "text/x-python",
   "name": "python",
   "nbconvert_exporter": "python",
   "pygments_lexer": "ipython3",
   "version": "3.12.9"
  }
 },
 "nbformat": 4,
 "nbformat_minor": 5
}
