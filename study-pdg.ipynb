{
 "cells": [
  {
   "cell_type": "code",
   "execution_count": 1,
   "id": "249c1a08",
   "metadata": {},
   "outputs": [],
   "source": [
    "import numpy as np\n",
    "import matplotlib.pyplot as plt\n",
    "import pandas as pd\n",
    "import parser \n",
    "import reverser"
   ]
  },
  {
   "cell_type": "code",
   "execution_count": 2,
   "id": "9d435af8",
   "metadata": {},
   "outputs": [],
   "source": [
    "# cuts = [1e-02, 1e-03, 1e-04, 1e-05, 1e-06, 1e-07, 1e-08, 1e-09]\n",
    "# parser.cutting_routine(cuts)\n",
    "# reverser.reverser_routine(cuts)"
   ]
  },
  {
   "cell_type": "code",
   "execution_count": 3,
   "id": "11d9cefe",
   "metadata": {},
   "outputs": [
    {
     "name": "stdout",
     "output_type": "stream",
     "text": [
      "Number of stable particles: 26\n",
      "Stable particles IDs: [3334, -3334, 3312, -3312, 3322, -3322, 3112, -3112, 3212, -3212, 3222, -3222, 3122, -3122, 2112, -2112, 2212, -2212, 311, -311, 321, -321, 211, -211, 111, 22]\n"
     ]
    }
   ],
   "source": [
    "# Path to your file\n",
    "file_path = \"decays_PDG2016Plus_massorder_original.dat\"\n",
    "# file_path = \"decays_QM2016Plus_massorder.dat\"\n",
    "\n",
    "# Parse the file\n",
    "particles_df, decays_df = parser.parse_to_df(file_path)\n",
    "\n",
    "stable_particles_test = particles_df[particles_df[\"Width (GeV)\"] == 0.0]\n",
    "stable_particles = stable_particles_test[stable_particles_test[\"No. of decay channels\"] == 1][\"ID\"].tolist()\n",
    "print(f\"Number of stable particles: {len(stable_particles)}\")\n",
    "print(f\"Stable particles IDs: {stable_particles}\")"
   ]
  },
  {
   "cell_type": "code",
   "execution_count": 4,
   "id": "c3f728c8",
   "metadata": {},
   "outputs": [
    {
     "name": "stdout",
     "output_type": "stream",
     "text": [
      "Particles DataFrame:\n",
      "        ID          Name  Mass (GeV)  Width (GeV)  Degeneracy  Baryon no.  Strangeness no.  Charm no.  Bottom no.  Isospin  Charge  No. of decay channels\n",
      "0  2001034  Delta(2950)-        2.95          0.5          16           1                0          0           0      1.5      -1                      2\n",
      "1  2001033  Delta(2950)0        2.95          0.5          16           1                0          0           0      1.5       0                      3\n",
      "2  2001032  Delta(2950)+        2.95          0.5          16           1                0          0           0      1.5       1                      3\n",
      "\n",
      "total number of particles : 739\n",
      "\n",
      "Decays DataFrame:\n",
      "   ParentID  No. of daughter particles  BranchingRatio              ProductIDs\n",
      "0   2001034                          2            0.96  [2001030, 22, 0, 0, 0]\n",
      "1   2001034                          2            0.04   [2112, -211, 0, 0, 0]\n",
      "2   2001033                          2            0.96  [2001029, 22, 0, 0, 0]\n",
      "\n",
      "total number of decays : 3865\n"
     ]
    }
   ],
   "source": [
    "# View the data\n",
    "pd.set_option('display.max_columns', None)  # Show all columns\n",
    "pd.set_option('display.width', 1000)  # Set display width\n",
    "pd.set_option(\"display.max_colwidth\", None)  # Set max column width\n",
    "\n",
    "print(\"Particles DataFrame:\")\n",
    "print(particles_df.head(n=3))\n",
    "print()\n",
    "print(f\"total number of particles : {len(particles_df)}\")\n",
    "\n",
    "print(\"\\nDecays DataFrame:\")\n",
    "print(decays_df.head(n=3))\n",
    "print()\n",
    "print(f\"total number of decays : {len(decays_df)}\")\n"
   ]
  },
  {
   "cell_type": "markdown",
   "id": "98e813ec",
   "metadata": {},
   "source": [
    "## TEST of dpg API"
   ]
  },
  {
   "cell_type": "code",
   "execution_count": 5,
   "id": "1b854e05",
   "metadata": {},
   "outputs": [
    {
     "name": "stdout",
     "output_type": "stream",
     "text": [
      "2025 Review of Particle Physics, data release 2025-05-30 13:30:23 PDT, API version 0.2.0\n",
      "S. Navas et al. (Particle Data Group), Phys. Rev. D 110, 030001 (2024) and 2025 update\n",
      "(C) Particle Data Group (PDG), data released under CC BY 4.0\n",
      "For further information see https://pdg.lbl.gov/api\n",
      "<class 'pdg.api.PdgApi'>\n"
     ]
    }
   ],
   "source": [
    "import pdg\n",
    "from pdg_lib import *\n",
    "api = pdg.connect()\n",
    "print(api)\n",
    "print(type(api))"
   ]
  },
  {
   "cell_type": "code",
   "execution_count": 12,
   "id": "6b9b234b",
   "metadata": {},
   "outputs": [
    {
     "name": "stdout",
     "output_type": "stream",
     "text": [
      "1.8200716040826e-07\n",
      "lifetime:  2.60331319994913e-08\n",
      "lifetime error:  5.29123572070991e-12\n",
      "width:  2.496818285301597e-17\n",
      "width error:  5.074784739526398e-21\n",
      "particle width:  2.5283166082854017e-17\n",
      "particle width error:  5.138805100855808e-21\n"
     ]
    }
   ],
   "source": [
    "particle = api.get_particle_by_mcid(211)  # Example: get the particle with ID 211 (pi+)\n",
    "mass = list(particle.masses())[0]\n",
    "#width = list(particle.widths())[0]\n",
    "lifetime = list(particle.lifetimes())[0]\n",
    "\n",
    "svm = mass.summary_values()\n",
    "#print(svm)\n",
    "print(svm[0].get_error_positive(units=\"GeV\"))\n",
    "\n",
    "svl = lifetime.summary_values()\n",
    "print(\"lifetime: \",svl[0].get_value(units=\"s\"))\n",
    "print(\"lifetime error: \",svl[0].get_error_positive(units=\"s\"))\n",
    "\n",
    "print(\"width: \",(6.5*10**-25) / svl[0].get_value(units=\"s\"))\n",
    "print(\"width error: \",((6.5*10**-25) / (svl[0].get_value(units=\"s\")**2)) * svl[0].get_error_positive(units=\"s\"))\n",
    "#print((6.5*10**-25) / svl[0].get_error_positive(units=\"s\"))\n",
    "\n",
    "print(\"particle width: \", particle.width)\n",
    "print(\"particle width error: \", particle.width_error)\n"
   ]
  },
  {
   "cell_type": "markdown",
   "id": "81db51c7",
   "metadata": {},
   "source": [
    "### Particle Dataframe"
   ]
  },
  {
   "cell_type": "code",
   "execution_count": 7,
   "id": "56000716",
   "metadata": {},
   "outputs": [
    {
     "name": "stdout",
     "output_type": "stream",
     "text": [
      "Processed 351 particles for mass errors.\n",
      "Processed 127 particles for mass errors by name.\n",
      "Processed 351 particles for width errors.\n",
      "Processed 204 particles for width errors by name.\n",
      "Replaced 341 np.nan values with 0.0.\n",
      "Replaced 341 np.nan values with 0.0.\n",
      "Replaced 580 np.nan values with 0.0.\n",
      "Replaced 580 np.nan values with 0.0.\n"
     ]
    }
   ],
   "source": [
    "particles_df_errors = get_particle_errors(particles_df, api)"
   ]
  },
  {
   "cell_type": "code",
   "execution_count": 8,
   "id": "5be3f04e",
   "metadata": {},
   "outputs": [
    {
     "name": "stdout",
     "output_type": "stream",
     "text": [
      "        ID          Name  Mass (GeV)  Width (GeV)  Degeneracy  Baryon no.  Strangeness no.  Charm no.  Bottom no.  Isospin  Charge  No. of decay channels  Mass Error Pos (GeV)  Mass Error Neg (GeV)  Width Error Pos (GeV)  Width Error Neg (GeV)\n",
      "0  2001034  Delta(2950)-        2.95          0.5          16           1                0          0           0      1.5      -1                      2                   0.0                   0.0                    0.0                    0.0\n",
      "1  2001033  Delta(2950)0        2.95          0.5          16           1                0          0           0      1.5       0                      3                   0.0                   0.0                    0.0                    0.0\n",
      "2  2001032  Delta(2950)+        2.95          0.5          16           1                0          0           0      1.5       1                      3                   0.0                   0.0                    0.0                    0.0\n"
     ]
    }
   ],
   "source": [
    "print(particles_df_errors.head(n=3))\n",
    "\n",
    "with open('test.txt', 'w') as f:\n",
    "    f.write(particles_df_errors.to_string(index=False))"
   ]
  },
  {
   "cell_type": "code",
   "execution_count": 14,
   "id": "641adeca",
   "metadata": {},
   "outputs": [
    {
     "name": "stdout",
     "output_type": "stream",
     "text": [
      "Number of particles with positive mass error: 456\n",
      "Number of particles with positive width error: 160\n"
     ]
    },
    {
     "data": {
      "image/png": "[encoded data removed]",
      "text/plain": [
       "<Figure size 640x480 with 1 Axes>"
      ]
     },
     "metadata": {},
     "output_type": "display_data"
    }
   ],
   "source": [
    "counter_mass = 0\n",
    "for m_err in particles_df_errors[\"Mass Error Neg (GeV)\"]:\n",
    "    if m_err > 0:\n",
    "        counter_mass += 1\n",
    "\n",
    "counter_width = 0\n",
    "for w_err in particles_df_errors[\"Width Error Neg (GeV)\"]:\n",
    "    if w_err > 0:\n",
    "        counter_width += 1\n",
    "\n",
    "print(f\"Number of particles with positive mass error: {counter_mass}\")\n",
    "print(f\"Number of particles with positive width error: {counter_width}\")\n",
    "\n",
    "plt.plot(particles_df_errors[\"Mass Error Pos (GeV)\"], marker='o', linestyle='None', color=\"blue\", label=\"Mass Error Pos\")\n",
    "plt.plot(particles_df_errors[\"Mass Error Neg (GeV)\"], marker='o', linestyle='None', color=\"lightblue\", label=\"Mass Error Neg\")\n",
    "plt.plot(particles_df_errors[\"Width Error Pos (GeV)\"], marker='s', linestyle='None', color=\"green\", label=\"Width Error Pos\")\n",
    "plt.plot(particles_df_errors[\"Width Error Neg (GeV)\"], marker='s', linestyle='None', color=\"lightgreen\", label=\"Width Error Neg\")\n",
    "plt.yscale(\"symlog\", linthresh=1e-22)\n",
    "plt.xlabel(\"Particle ID\")\n",
    "plt.ylabel(\"Mass/Width (GeV)\")\n",
    "plt.legend()\n",
    "plt.show()"
   ]
  },
  {
   "cell_type": "code",
   "execution_count": 10,
   "id": "a7f5e456",
   "metadata": {},
   "outputs": [],
   "source": [
    "# Save the DataFrame with errors to a pickle file\n",
    "# particles_df_errors.to_pickle(\"Dataframes/particles_df_errors.pkl\")\n",
    "\n",
    "#df = pd.read_pickle('Dataframes/particles_df_errors.pkl')\n",
    "#print(df.to_string())\n"
   ]
  },
  {
   "cell_type": "markdown",
   "id": "87360787",
   "metadata": {},
   "source": [
    "### Decay Dataframe"
   ]
  },
  {
   "cell_type": "code",
   "execution_count": null,
   "id": "203a8370",
   "metadata": {},
   "outputs": [],
   "source": []
  },
  {
   "cell_type": "code",
   "execution_count": null,
   "id": "db5b603d",
   "metadata": {},
   "outputs": [
    {
     "name": "stdout",
     "output_type": "stream",
     "text": [
      "Data successfully written to decays_PDG2016Plus_massorder_err.dat\n"
     ]
    }
   ],
   "source": [
    "# Output path\n",
    "# output_path = f\"decays_PDG2016Plus_massorder_err.dat\"\n",
    "\n",
    "# parser.parse_to_dat(output_path, particles_df_errors, decays_df)"
   ]
  }
 ],
 "metadata": {
  "kernelspec": {
   "display_name": "base",
   "language": "python",
   "name": "python3"
  },
  "language_info": {
   "codemirror_mode": {
    "name": "ipython",
    "version": 3
   },
   "file_extension": ".py",
   "mimetype": "text/x-python",
   "name": "python",
   "nbconvert_exporter": "python",
   "pygments_lexer": "ipython3",
   "version": "3.12.9"
  }
 },
 "nbformat": 4,
 "nbformat_minor": 5
}
