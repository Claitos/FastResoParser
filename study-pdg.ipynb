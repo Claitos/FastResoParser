{
 "cells": [
  {
   "cell_type": "code",
   "execution_count": 115,
   "id": "249c1a08",
   "metadata": {},
   "outputs": [],
   "source": [
    "import numpy as np\n",
    "import matplotlib.pyplot as plt\n",
    "import pandas as pd\n",
    "import parser \n",
    "import reverser"
   ]
  },
  {
   "cell_type": "code",
   "execution_count": 116,
   "id": "9d435af8",
   "metadata": {},
   "outputs": [],
   "source": [
    "# cuts = [1e-02, 1e-03, 1e-04, 1e-05, 1e-06, 1e-07, 1e-08, 1e-09]\n",
    "# parser.cutting_routine(cuts)\n",
    "# reverser.reverser_routine(cuts)"
   ]
  },
  {
   "cell_type": "code",
   "execution_count": 117,
   "id": "11d9cefe",
   "metadata": {},
   "outputs": [
    {
     "name": "stdout",
     "output_type": "stream",
     "text": [
      "Number of stable particles: 26\n",
      "Stable particles IDs: [3334, -3334, 3312, -3312, 3322, -3322, 3112, -3112, 3212, -3212, 3222, -3222, 3122, -3122, 2112, -2112, 2212, -2212, 311, -311, 321, -321, 211, -211, 111, 22]\n"
     ]
    }
   ],
   "source": [
    "# Path to your file\n",
    "file_path = \"decays_PDG2016Plus_massorder_original.dat\"\n",
    "# file_path = \"decays_QM2016Plus_massorder.dat\"\n",
    "\n",
    "# Parse the file\n",
    "particles_df, decays_df = parser.parse_to_df(file_path)\n",
    "\n",
    "stable_particles_test = particles_df[particles_df[\"Width (GeV)\"] == 0.0]\n",
    "stable_particles = stable_particles_test[stable_particles_test[\"No. of decay channels\"] == 1][\"ID\"].tolist()\n",
    "print(f\"Number of stable particles: {len(stable_particles)}\")\n",
    "print(f\"Stable particles IDs: {stable_particles}\")"
   ]
  },
  {
   "cell_type": "code",
   "execution_count": 118,
   "id": "c3f728c8",
   "metadata": {},
   "outputs": [
    {
     "name": "stdout",
     "output_type": "stream",
     "text": [
      "Particles DataFrame:\n",
      "        ID          Name  Mass (GeV)  Width (GeV)  Degeneracy  Baryon no.  Strangeness no.  Charm no.  Bottom no.  Isospin  Charge  No. of decay channels\n",
      "0  2001034  Delta(2950)-        2.95          0.5          16           1                0          0           0      1.5      -1                      2\n",
      "1  2001033  Delta(2950)0        2.95          0.5          16           1                0          0           0      1.5       0                      3\n",
      "2  2001032  Delta(2950)+        2.95          0.5          16           1                0          0           0      1.5       1                      3\n",
      "\n",
      "total number of particles : 739\n",
      "\n",
      "Decays DataFrame:\n",
      "   ParentID  No. of daughter particles  BranchingRatio              ProductIDs\n",
      "0   2001034                          2            0.96  [2001030, 22, 0, 0, 0]\n",
      "1   2001034                          2            0.04   [2112, -211, 0, 0, 0]\n",
      "2   2001033                          2            0.96  [2001029, 22, 0, 0, 0]\n",
      "\n",
      "total number of decays : 3865\n"
     ]
    }
   ],
   "source": [
    "# View the data\n",
    "pd.set_option('display.max_columns', None)  # Show all columns\n",
    "pd.set_option('display.width', 1000)  # Set display width\n",
    "pd.set_option(\"display.max_colwidth\", None)  # Set max column width\n",
    "\n",
    "print(\"Particles DataFrame:\")\n",
    "print(particles_df.head(n=3))\n",
    "print()\n",
    "print(f\"total number of particles : {len(particles_df)}\")\n",
    "\n",
    "print(\"\\nDecays DataFrame:\")\n",
    "print(decays_df.head(n=3))\n",
    "print()\n",
    "print(f\"total number of decays : {len(decays_df)}\")\n"
   ]
  },
  {
   "cell_type": "markdown",
   "id": "98e813ec",
   "metadata": {},
   "source": [
    "## TEST of dpg API"
   ]
  },
  {
   "cell_type": "code",
   "execution_count": 119,
   "id": "1b854e05",
   "metadata": {},
   "outputs": [
    {
     "name": "stdout",
     "output_type": "stream",
     "text": [
      "2025 Review of Particle Physics, data release 2025-05-30 13:30:23 PDT, API version 0.2.0\n",
      "S. Navas et al. (Particle Data Group), Phys. Rev. D 110, 030001 (2024) and 2025 update\n",
      "(C) Particle Data Group (PDG), data released under CC BY 4.0\n",
      "For further information see https://pdg.lbl.gov/api\n"
     ]
    }
   ],
   "source": [
    "import pdg\n",
    "api = pdg.connect()\n",
    "print(api)"
   ]
  },
  {
   "cell_type": "code",
   "execution_count": 120,
   "id": "6b9b234b",
   "metadata": {},
   "outputs": [
    {
     "data": {
      "text/plain": [
       "0.00018200716040826"
      ]
     },
     "execution_count": 120,
     "metadata": {},
     "output_type": "execute_result"
    }
   ],
   "source": [
    "particle = api.get_particle_by_mcid(211)  # Example: get the particle with ID 211 (pi+)\n",
    "mass = list(particle.masses())\n",
    "\n",
    "mass[0].summary_values()\n",
    "mass[0].value  # Get the mass value\n",
    "mass[0].error  # Get the uncertainty of the mass"
   ]
  },
  {
   "cell_type": "code",
   "execution_count": null,
   "id": "b5a3fedb",
   "metadata": {},
   "outputs": [
    {
     "name": "stdout",
     "output_type": "stream",
     "text": [
      "[nan, nan, nan, nan, nan, nan, nan, nan, nan, nan, nan, nan, nan, nan, nan, nan, nan, nan, nan, nan, nan, nan, nan, nan, nan, nan, nan, nan, nan, nan, nan, nan, nan, nan, nan, nan, nan, nan, nan, nan, nan, nan, nan, nan, nan, nan, nan, nan, nan, nan, nan, nan, nan, nan, nan, nan, nan, nan, nan, nan, nan, nan, nan, nan, nan, nan, nan, nan, nan, nan, nan, nan, nan, nan, nan, nan, nan, nan, nan, nan, nan, nan, nan, nan, nan, nan, None, nan, nan, nan, nan, nan, nan, nan, nan, nan, nan, nan, nan, nan, nan, nan, nan, nan, nan, nan, nan, nan, nan, nan, None, nan, nan, nan, nan, nan, nan, nan, nan, nan, nan, nan, nan, nan, nan, nan, nan, nan, nan, nan, nan, nan, nan, nan, nan, nan, nan, nan, nan, nan, nan, nan, nan, nan, nan, nan, nan, nan, nan, None, None, None, None, nan, nan, nan, nan, nan, nan, nan, nan, nan, nan, nan, nan, nan, nan, nan, nan, nan, nan, nan, nan, nan, None, None, nan, nan, nan, nan, nan, nan, None, None, nan, nan, nan, nan, nan, nan, nan, nan, nan, nan, nan, nan, nan, nan, nan, nan, nan, nan, nan, nan, nan, nan, nan, nan, nan, nan, nan, nan, nan, nan, None, None, None, None, nan, nan, nan, nan, None, None, None, None, None, None, nan, nan, nan, nan, nan, nan, 0.011437741255554449, nan, 0.01596529443819695, 0.01596529443819695, 0.01596529443819695, nan, nan, nan, nan, nan, nan, nan, nan, nan, nan, nan, nan, nan, nan, nan, nan, nan, nan, nan, nan, nan, nan, nan, nan, None, nan, nan, nan, nan, nan, nan, nan, nan, nan, nan, nan, nan, nan, nan, nan, nan, nan, nan, nan, nan, nan, nan, nan, nan, nan, nan, None, None, None, None, None, None, nan, nan, nan, None, None, None, None, None, None, None, None, None, None, None, None, None, None, None, None, None, None, None, None, None, None, None, None, None, None, None, None, None, None, 0.00926655749458051, nan, nan, nan, nan, nan, nan, nan, nan, nan, nan, nan, nan, nan, nan, nan, nan, nan, nan, nan, nan, None, None, None, None, None, None, None, None, None, None, nan, nan, nan, None, None, None, None, None, None, None, None, nan, nan, nan, nan, nan, nan, nan, nan, nan, nan, nan, nan, nan, nan, nan, nan, nan, nan, nan, nan, nan, nan, nan, 0.00677456934139176, nan, nan, nan, nan, nan, nan, nan, nan, nan, nan, nan, None, None, nan, nan, 0.005, 0.005, 0.005, 0.005, None, None, 0.01226973578707565, 0.01226973578707565, 0.01226973578707565, 0.01226973578707565, 0.012254508180188, None, None, nan, nan, nan, None, None, 0.00768327190794584, 0.00768327190794584, 0.00768327190794584, 0.00768327190794584, None, None, None, None, None, None, 0.007974304800634834, 0.007974304800634834, 0.007974304800634834, 0.007974304800634834, nan, nan, nan, nan, nan, nan, 0.01489751026499605, None, None, None, nan, nan, nan, nan, nan, nan, nan, nan, None, None, None, 0.0141702576995276, 0.0141702576995276, 0.0141702576995276, nan, nan, nan, nan, nan, nan, None, None, None, None, 0.01788844479456975, 0.01788844479456975, 0.01788844479456975, 0.01788844479456975, None, nan, nan, None, None, None, None, 0.02, 0.02, None, None, None, None, None, None, None, None, None, None, None, None, 0.02, 0.0020985516723695404, 0.0020985516723695404, 0.0020985516723695404, nan, nan, None, None, nan, nan, None, None, None, None, 0.02, None, None, None, None, 0.000293146319766513, 0.000293146319766513, None, None, None, None, None, None, None, None, None, None, None, 0.00399110560803384, None, None, None, None, None, None, None, None, None, None, None, None, None, 0.05, 0.05, 0.05, 0.05, 0.03, 0.016179133649682702, 0.016179133649682702, 0.016179133649682702, 0.0058313784211153205, None, None, None, None, None, None, None, None, nan, nan, nan, nan, nan, nan, nan, nan, nan, nan, nan, nan, nan, nan, 0.00526131479626402, None, None, None, None, None, None, None, None, None, None, nan, nan, nan, nan, nan, nan, nan, nan, nan, nan, nan, None, None, 0.000632021663160871, 0.000632021663160871, None, None, 0.00031575272391182006, 0.00031575272391182006, 0.0023794091660541347, None, None, nan, None, None, None, None, None, nan, 0.03442623011673571, 0.03442623011673571, 0.03442623011673571, 0.025, 0.025, 0.025, nan, nan, nan, nan, nan, nan, nan, nan, 0.00125769408082424, 0.00125769408082424, None, None, None, None, None, None, 0.001510355746986255, 0.001510355746986255, 0.06, nan, nan, 0.0145398454347452, 0.0145398454347452, 0.0145398454347452, 0.0145398454347452, nan, 0.05, 0.05, 0.05, 0.05, nan, None, None, 0.0068731168328374295, 0.0068731168328374295, 0.0068731168328374295, 0.0068731168328374295, 0.00034162267416605255, 0.00034162267416605255, None, 0.00100482633463984, 0.00100482633463984, 0.00034162267416605255, 0.00034162267416605255, nan, nan, nan, None, 6.653527362254339e-05, 6.653527362254339e-05, 0.0006080973963121781, 0.0006080973963121781, 0.0006080973963121781, 0.000203431949468518, 0.000203431949468518, 0.1, 0.1, 0.1, 0.00389211011433497, 0.000466475161553382, 0.0008323494046746621, 0.00698821573469788, 0.00698821573469788, 0.00698821573469788, 0.00698821573469788, None, None, None, None, None, None, None, None, 0.04, 0.04, 0.00316916129668438, 0.00316916129668438, 0.00316916129668438, 0.04, 2.91585030766085e-05, 2.91585030766085e-05, 2.3595691425754803e-05, 2.3595691425754803e-05, 6.96228856122078e-05, 6.96228856122078e-05, 0.0058309518948452994, 6.43763777862199e-06, 6.43763777862199e-06, 1.55559754081016e-05, 0.02, 0.02, 0.02, 0.02, 6.263150681310401e-05, 5.4e-10, 5.4e-10, 2.9e-10, 2.9e-10, 0.000204634790751611, 0.000204634790751611, 0.000257565328807178, 0.000257565328807178, 0.00012900486729275552, 0.00034073877998563, 0.000234291874835878, 0.00034073877998563, 1.73342137119148e-05, 1.2990199756424202e-05, 1.2990199756424202e-05, 1.54056652260715e-05, 1.54056652260715e-05, 1.8200716040826e-07, 1.8200716040826e-07, 4.85679282284234e-07, None]\n",
      "\n",
      "[nan, nan, nan, nan, nan, nan, nan, nan, nan, nan, nan, nan, nan, nan, nan, nan, nan, nan, nan, nan, nan, nan, nan, nan, nan, nan, nan, nan, nan, nan, nan, nan, nan, nan, nan, nan, nan, nan, nan, nan, nan, nan, nan, nan, nan, nan, nan, nan, nan, nan, nan, nan, nan, nan, nan, nan, nan, nan, nan, nan, nan, nan, nan, nan, nan, nan, nan, nan, nan, nan, nan, nan, nan, nan, nan, nan, nan, nan, nan, nan, nan, nan, nan, nan, nan, nan, None, nan, nan, nan, nan, nan, nan, nan, nan, nan, nan, nan, nan, nan, nan, nan, nan, nan, nan, nan, nan, nan, nan, nan, 0.0645, nan, nan, nan, nan, nan, nan, nan, nan, nan, nan, nan, nan, nan, nan, nan, nan, nan, nan, nan, nan, nan, nan, nan, nan, nan, nan, nan, nan, nan, nan, nan, nan, nan, nan, nan, nan, nan, nan, None, None, None, None, nan, nan, nan, nan, nan, nan, nan, nan, nan, nan, nan, nan, nan, nan, nan, nan, nan, nan, nan, nan, nan, None, None, nan, nan, nan, nan, nan, nan, None, None, nan, nan, nan, nan, nan, nan, nan, nan, nan, nan, nan, nan, nan, nan, nan, nan, nan, nan, nan, nan, nan, nan, nan, nan, nan, nan, nan, nan, nan, nan, None, None, None, None, nan, nan, nan, nan, None, None, None, None, None, None, nan, nan, nan, nan, nan, nan, 0.01802991613504005, nan, None, None, None, nan, nan, nan, nan, nan, nan, nan, nan, nan, nan, nan, nan, nan, nan, nan, nan, nan, nan, nan, nan, nan, nan, nan, nan, 0.0476682898677941, nan, nan, nan, nan, nan, nan, nan, nan, nan, nan, nan, nan, nan, nan, nan, nan, nan, nan, nan, nan, nan, nan, nan, nan, nan, nan, None, None, None, None, None, None, nan, nan, nan, None, None, None, None, None, None, None, None, None, None, None, None, None, None, None, None, None, None, None, None, None, None, None, None, None, None, None, None, None, None, 0.0205932107794649, nan, nan, nan, nan, nan, nan, nan, nan, nan, nan, nan, nan, nan, nan, nan, nan, nan, nan, nan, nan, None, None, None, None, None, None, None, None, None, None, nan, nan, nan, None, None, None, None, None, None, None, None, nan, nan, nan, nan, nan, nan, nan, nan, nan, nan, nan, nan, nan, nan, nan, nan, nan, nan, nan, nan, nan, nan, nan, None, nan, nan, nan, nan, nan, nan, nan, nan, nan, nan, nan, None, None, nan, nan, None, None, None, None, None, None, 0.03374815848973695, 0.03374815848973695, 0.03374815848973695, 0.03374815848973695, 0.022066698494380147, None, None, nan, nan, nan, None, None, 0.0172315735479661, 0.0172315735479661, 0.0172315735479661, 0.0172315735479661, None, None, None, None, None, None, 0.013970632060785347, 0.013970632060785347, 0.013970632060785347, 0.013970632060785347, nan, nan, nan, nan, nan, nan, 0.029793421801936247, None, None, None, nan, nan, nan, nan, nan, nan, nan, nan, None, None, None, None, None, None, nan, nan, nan, nan, nan, nan, None, None, None, None, 0.107572956231811, 0.107572956231811, 0.107572956231811, 0.107572956231811, None, nan, nan, None, None, None, None, 0.1, 0.1, None, None, None, None, None, None, None, None, None, None, None, None, 0.1, 0.009677606109181301, 0.009677606109181301, 0.009677606109181301, nan, nan, None, None, nan, nan, None, None, None, None, 0.05, None, None, None, None, 1.0489616045279101e-16, 1.0489616045279101e-16, None, None, None, None, None, None, None, None, None, None, None, 0.0100179720379382, None, None, None, None, None, None, None, None, None, None, None, None, None, 0.05, 0.05, 0.05, 0.05, 0.035, 0.03838624527710605, 0.03838624527710605, 0.03838624527710605, None, None, None, None, None, None, None, None, None, nan, nan, nan, nan, nan, nan, nan, nan, nan, nan, nan, nan, nan, nan, 0.010638704452817099, None, None, None, None, None, None, None, None, None, None, nan, nan, nan, nan, nan, nan, nan, nan, nan, nan, nan, None, None, None, None, None, None, 0.00048058271927943003, 0.00048058271927943003, None, None, None, nan, None, None, None, None, 0.002517254405853665, nan, 0.0140000000989269, 0.0140000000989269, 0.0140000000989269, 0.06, 0.06, 0.06, nan, nan, nan, nan, nan, nan, nan, nan, 0.00547781713955508, 0.00547781713955508, 0.0, None, None, None, None, 0.00329827881249781, 0.00220748038979145, 0.00220748038979145, 0.19, nan, nan, 0.021382372160539603, 0.021382372160539603, 0.021382372160539603, 0.021382372160539603, nan, 0.08, 0.08, 0.08, 0.08, nan, 0.0019611613513818398, 0.0019611613513818398, 0.012606142312065551, 0.012606142312065551, 0.012606142312065551, 0.012606142312065551, 0.000698945710179639, 0.000698945710179639, 0.01062476472263245, 0.00490883988436573, 0.00490883988436573, 0.000698945710179639, 0.000698945710179639, nan, nan, nan, None, 3.700740433401555e-17, 3.700740433401555e-17, 0.005, 0.005, 0.005, 7.378954516789645e-17, 7.378954516789645e-17, None, None, None, 0.0053662816306481904, 0.0010647512544854649, None, 0.02, 0.02, 0.02, 0.02, None, None, None, None, None, None, None, None, None, None, 0.00850576301057597, 0.00850576301057597, 0.00850576301057597, None, 3.238660556968565e-17, 3.238660556968565e-17, 8.413805697589481e-07, 8.413805697589481e-07, 2.7037465705630322e-17, 2.7037465705630322e-17, 0.0345253530032641, 9.912343531178718e-18, 9.912343531178718e-18, 1.31148704408051e-05, None, None, None, None, 6.44423299330333e-06, 4.042025191159372e-31, 4.042025191159372e-31, 0.0, 0.0, 0.0005194045429239271, 0.0005194045429239271, 0.000818322705752861, 0.000818322705752861, 0.000132000087077645, 0.000849067623137882, 0.0008209632421126451, 0.000849067623137882, 4.5200663220245604e-08, 0.0, 0.0, 8.686869980804157e-20, 8.686869980804157e-20, 5.138805100855808e-21, 5.138805100855808e-21, 1.2468277132615016e-10, 0.0]\n",
      "Replaced 596 None or np.nan values with -0.2.\n",
      "Replaced 613 None or np.nan values with -0.2.\n"
     ]
    }
   ],
   "source": [
    "mass_errors = []\n",
    "width_errors = []\n",
    "counter_not_found = 0\n",
    "for mcid in particles_df[\"ID\"]:\n",
    "    try :\n",
    "        particle = api.get_particle_by_mcid(mcid)\n",
    "    except:\n",
    "        mass_errors.append(np.nan)\n",
    "        width_errors.append(np.nan)\n",
    "        counter_not_found += 1\n",
    "        continue\n",
    "\n",
    "    try:\n",
    "        mass_errors.append(particle.mass_error)\n",
    "        width_errors.append(particle.width_error)\n",
    "    except:\n",
    "        ### ToDO : Handle the case where mass or width is not available check if no mass or width is really found\n",
    "        mass_errors.append(np.nan)\n",
    "        width_errors.append(np.nan)\n",
    "\n",
    "print(mass_errors)\n",
    "print()\n",
    "print(width_errors)\n",
    "\n",
    "\n",
    "def replace_nan_none(input_list, default_value=0.0):\n",
    "    \"\"\"\n",
    "    Replaces all None and np.nan values in a list with -1.\n",
    "    \n",
    "    Parameters:\n",
    "        input_list (list): List containing numbers, None, or np.nan.\n",
    "\n",
    "    Returns:\n",
    "        list: A new list with None and np.nan replaced by -1.\n",
    "    \"\"\"\n",
    "    counter = 0\n",
    "    for i in range(len(input_list)):\n",
    "        if input_list[i] is None or np.isnan(input_list[i]):\n",
    "            counter += 1\n",
    "    \n",
    "    print(f\"Replaced {counter} None or np.nan values with {default_value}.\")\n",
    "\n",
    "    return [default_value if x is None or np.isnan(x) else x for x in input_list]\n",
    "\n",
    "mass_errors = replace_nan_none(mass_errors, default_value=-0.2)\n",
    "width_errors = replace_nan_none(width_errors, default_value=-0.2)"
   ]
  },
  {
   "cell_type": "code",
   "execution_count": 122,
   "id": "b33e9e58",
   "metadata": {},
   "outputs": [
    {
     "data": {
      "image/png": "[encoded data removed]",
      "text/plain": [
       "<Figure size 640x480 with 1 Axes>"
      ]
     },
     "metadata": {},
     "output_type": "display_data"
    }
   ],
   "source": [
    "plt.plot(mass_errors, label=\"Mass Errors\", color='blue', linestyle='', marker='o')\n",
    "plt.plot(width_errors, label=\"Width Errors\", color='orange', linestyle='', marker='x')\n",
    "plt.xlabel(\"Particle ID\")\n",
    "plt.ylabel(\"Error (GeV)\")\n",
    "plt.legend()\n",
    "plt.show()"
   ]
  },
  {
   "cell_type": "code",
   "execution_count": 123,
   "id": "c4e4ca4b",
   "metadata": {},
   "outputs": [
    {
     "name": "stdout",
     "output_type": "stream",
     "text": [
      "Replaced 596 None or np.nan values with 0.0.\n",
      "Replaced 613 None or np.nan values with 0.0.\n"
     ]
    }
   ],
   "source": [
    "mass_errors = []\n",
    "width_errors = []\n",
    "counter_not_found = 0\n",
    "for mcid in particles_df[\"ID\"]:\n",
    "    try :\n",
    "        particle = api.get_particle_by_mcid(mcid)\n",
    "    except:\n",
    "        mass_errors.append(np.nan)\n",
    "        width_errors.append(np.nan)\n",
    "        counter_not_found += 1\n",
    "        continue\n",
    "\n",
    "    try:\n",
    "        mass_errors.append(particle.mass_error)\n",
    "        width_errors.append(particle.width_error)\n",
    "    except:\n",
    "        mass_errors.append(np.nan)\n",
    "        width_errors.append(np.nan)\n",
    "\n",
    "mass_errors_df = replace_nan_none(mass_errors)\n",
    "width_errors_df = replace_nan_none(width_errors)"
   ]
  },
  {
   "cell_type": "code",
   "execution_count": 124,
   "id": "4bbc617a",
   "metadata": {},
   "outputs": [],
   "source": [
    "particles_df_errors = particles_df.copy()\n",
    "particles_df_errors[\"Mass Error (MeV)\"] = mass_errors_df\n",
    "particles_df_errors[\"Width Error (MeV)\"] = width_errors_df"
   ]
  },
  {
   "cell_type": "code",
   "execution_count": 125,
   "id": "e81f93bf",
   "metadata": {},
   "outputs": [
    {
     "name": "stdout",
     "output_type": "stream",
     "text": [
      "Particles DataFrame:\n",
      "        ID          Name  Mass (GeV)  Width (GeV)  Degeneracy  Baryon no.  Strangeness no.  Charm no.  Bottom no.  Isospin  Charge  No. of decay channels  Mass Error (MeV)  Width Error (MeV)\n",
      "0  2001034  Delta(2950)-        2.95          0.5          16           1                0          0           0      1.5      -1                      2               0.0                0.0\n",
      "1  2001033  Delta(2950)0        2.95          0.5          16           1                0          0           0      1.5       0                      3               0.0                0.0\n",
      "2  2001032  Delta(2950)+        2.95          0.5          16           1                0          0           0      1.5       1                      3               0.0                0.0\n",
      "\n",
      "total number of particles : 739\n"
     ]
    }
   ],
   "source": [
    "print(\"Particles DataFrame:\")\n",
    "print(particles_df_errors.head(n=3))\n",
    "print()\n",
    "print(f\"total number of particles : {len(particles_df_errors)}\")"
   ]
  },
  {
   "cell_type": "code",
   "execution_count": 126,
   "id": "db5b603d",
   "metadata": {},
   "outputs": [],
   "source": [
    "# Output path\n",
    "# output_path = f\"test/decays_PDG2016Plus_massorder_{cut}.dat\"\n",
    "\n",
    "# parser.parse_to_dat(output_path, particles_df, decays_df)"
   ]
  }
 ],
 "metadata": {
  "kernelspec": {
   "display_name": "base",
   "language": "python",
   "name": "python3"
  },
  "language_info": {
   "codemirror_mode": {
    "name": "ipython",
    "version": 3
   },
   "file_extension": ".py",
   "mimetype": "text/x-python",
   "name": "python",
   "nbconvert_exporter": "python",
   "pygments_lexer": "ipython3",
   "version": "3.12.9"
  }
 },
 "nbformat": 4,
 "nbformat_minor": 5
}
